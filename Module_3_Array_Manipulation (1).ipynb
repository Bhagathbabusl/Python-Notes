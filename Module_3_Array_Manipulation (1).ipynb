{
  "nbformat": 4,
  "nbformat_minor": 0,
  "metadata": {
    "colab": {
      "private_outputs": true,
      "provenance": []
    },
    "kernelspec": {
      "name": "python3",
      "display_name": "Python 3"
    },
    "language_info": {
      "name": "python"
    }
  },
  "cells": [
    {
      "cell_type": "markdown",
      "source": [
        "# Module 3: Array Manipulation\n",
        "\n",
        "## 4. Indexing and Slicing\n",
        "\n",
        "### Multi-dimensional Arrays\n",
        "\n",
        "#### Theory\n",
        "\n",
        "Multi-dimensional arrays extend the concept of one-dimensional arrays to multiple dimensions. These arrays are particularly useful for representing matrices, tensors, and other higher-dimensional data structures commonly encountered in fields like machine learning and data science.\n",
        "\n",
        "- **Indexing**: In multi-dimensional arrays, you need to specify an index for each dimension to access an individual element. For example, in a 2D array (matrix), you use two indices: one for the row and one for the column.\n",
        "- **Slicing**: Similar to one-dimensional arrays, slicing can be applied across multiple dimensions. This allows you to extract subarrays or submatrices, which is useful for various computational tasks.\n",
        "\n",
        "#### Example\n",
        "\n",
        "Consider a 2D array `aiml` representing a matrix. Here, we'll demonstrate indexing and slicing operations on this matrix:\n",
        "\n",
        "```python\n",
        "import numpy as np\n",
        "\n",
        "# Two-dimensional array (matrix)\n",
        "aiml = np.array([[1, 2, 3], [4, 5, 6], [7, 8, 9]])\n",
        "\n",
        "# Indexing\n",
        "element_1_2 = aiml[0, 1]  # Accessing the element in the first row, second column, which is 2\n",
        "element_3_3 = aiml[2, 2]  # Accessing the element in the third row, third column, which is 9\n",
        "\n",
        "# Slicing\n",
        "submatrix = aiml[0:2, 1:3]  # Accessing a submatrix from the first two rows and the second, third columns, result is [[2, 3], [5, 6]]\n",
        "\n",
        "# Advanced Slicing\n",
        "row_slice = aiml[1, :]  # Accessing the entire second row, result is [4, 5, 6]\n",
        "col_slice = aiml[:, 2]  # Accessing the entire third column, result is [3, 6, 9]\n"
      ],
      "metadata": {
        "id": "G7xihg_8GnBz"
      }
    },
    {
      "cell_type": "markdown",
      "source": [
        "## Boolean Indexing\n",
        "\n",
        "- Boolean indexing involves using boolean conditions to filter and access elements in an array. This method is particularly powerful for data analysis and preprocessing, where you often need to select elements based on specific criteria.\n",
        "\n",
        "- Boolean Arrays: These are arrays where each element is either True or False. You create boolean arrays by applying a condition to the original array.\n",
        "- Filtering: You can use boolean arrays to filter elements in the original array. Only elements corresponding to True values in the boolean array are selected.\n",
        "\n",
        "### Example\n",
        "Consider an array `ml` that contains numerical values. We'll use boolean indexing to filter elements based on specific conditions:\n",
        "\n",
        "### One-dimensional array\n",
        "```python\n",
        "ml = np.array([15, 25, 35, 45, 55])\n",
        "\n",
        "### Boolean Indexing\n",
        "condition = ml > 30  # Creating a boolean array where elements greater than 30 are True\n",
        "\n",
        "filtered_elements = ml[condition]  # Filtering elements that meet the condition, result is [35, 45, 55]\n",
        "\n",
        "### Another example with names\n",
        "\n",
        "```python\n",
        "names = np.array(['bharath', 'bhagath', 'manvi', 'mounika'])\n",
        "condition = np.char.startswith(names, 'm')  # Creating a boolean array where names start with 'm'\n",
        "filtered_names = names[condition]  # Filtering names that start with 'm', result is ['manvi', 'mounika']\n"
      ],
      "metadata": {
        "id": "UUkkr_90GrvN"
      }
    },
    {
      "cell_type": "markdown",
      "source": [
        "## Practical Applications\n",
        "Indexing and slicing are not just theoretical concepts; they have practical applications in various fields such as data analysis, scientific computing, and machine learning.\n",
        "\n",
        "### Data Analysis\n",
        "In data analysis, indexing and slicing are used to extract specific rows and columns from datasets, perform operations on subsets of data, and preprocess data before feeding it into analytical models.\n",
        "\n",
        "```python\n",
        "# Loading a dataset\n",
        "data = np.array([\n",
        "    [1, 'bharath', 85],\n",
        "    [2, 'bhagath', 90],\n",
        "    [3, 'manvi', 78],\n",
        "    [4, 'mounika', 92]\n",
        "])\n",
        "\n",
        "# Extracting specific columns (e.g., names and scores)\n",
        "names = data[:, 1]  # Extracting the second column (names)\n",
        "scores = data[:, 2].astype(int)  # Extracting the third column (scores) and converting to integers\n",
        "\n",
        "# Filtering data based on a condition (e.g., scores greater than 80)\n",
        "high_scorers = data[scores > 80]\n"
      ],
      "metadata": {
        "id": "_MQ-jbylMDG7"
      }
    },
    {
      "cell_type": "markdown",
      "source": [
        "## Scientific Computing\n",
        "In scientific computing, you often work with large numerical datasets and need to perform complex calculations efficiently. Indexing and slicing allow you to handle these tasks effectively.\n",
        "\n",
        "```python\n",
        "# Creating a large array\n",
        "matrix = np.random.rand(1000, 1000)\n",
        "\n",
        "# Accessing a specific element\n",
        "specific_value = matrix[500, 500]\n",
        "\n",
        "# Extracting a submatrix\n",
        "submatrix = matrix[100:200, 100:200]\n",
        "\n",
        "# Applying a condition to filter elements\n",
        "filtered_matrix = matrix[matrix > 0.5]\n"
      ],
      "metadata": {
        "id": "IYEu4k3BMMVR"
      }
    },
    {
      "cell_type": "markdown",
      "source": [
        "## Machine Learning\n",
        "In machine learning, data preprocessing is a crucial step. Indexing and slicing are used to split datasets into training and testing sets, normalize data, and select features.\n",
        "\n",
        "```python\n",
        "# Splitting a dataset into training and testing sets\n",
        "dataset = np.arange(100).reshape(50, 2)  # Creating a dataset with 50 samples, each with 2 features\n",
        "train_set = dataset[:40]  # First 40 samples for training\n",
        "test_set = dataset[40:]  # Remaining 10 samples for testing\n",
        "\n",
        "# Normalizing data\n",
        "mean = train_set.mean(axis=0)\n",
        "std = train_set.std(axis=0)\n",
        "normalized_train_set = (train_set - mean) / std\n",
        "\n",
        "# Selecting specific features (e.g., only the first feature)\n",
        "feature_1 = train_set[:, 0]\n"
      ],
      "metadata": {
        "id": "-xl23HQkMOzo"
      }
    },
    {
      "cell_type": "markdown",
      "source": [
        "## Advanced Indexing Techniques\n",
        "While basic indexing and slicing are powerful, advanced techniques provide even more flexibility and control. These techniques include fancy indexing, ellipsis, and new axis insertion.\n",
        "\n",
        "### Fancy Indexing\n",
        "Fancy indexing allows you to select multiple elements from an array using a list or array of indices.\n",
        "\n",
        "```python\n",
        "# One-dimensional array\n",
        "laptop = np.array([10, 20, 30, 40, 50, 60, 70, 80])\n",
        "\n",
        "# Fancy Indexing\n",
        "selected_elements = laptop[[1, 3, 5]]  # Selecting elements at indices 1, 3, and 5, result is [20, 40, 60]\n"
      ],
      "metadata": {
        "id": "VMpGv1EqMWYh"
      }
    },
    {
      "cell_type": "markdown",
      "source": [
        "### Ellipsis\n",
        "The ellipsis (...) is used in slicing to represent multiple colons (:) for the remaining dimensions. This is useful when working with high-dimensional arrays.\n",
        "\n",
        "```python\n",
        "# Three-dimensional array\n",
        "keyboard = np.random.rand(2, 3, 4)\n",
        "\n",
        "# Using Ellipsis\n",
        "subarray = keyboard[..., 1]  # Equivalent to keyboard[:, :, 1], selecting the second element along the last dimension\n"
      ],
      "metadata": {
        "id": "6hmqXq-jMa61"
      }
    },
    {
      "cell_type": "markdown",
      "source": [
        "### New Axis Insertion\n",
        "New axis insertion is used to increase the dimensionality of an array. This can be useful for various operations, including broadcasting.\n",
        "\n",
        "```python\n",
        "# One-dimensional array\n",
        "mouse = np.array([1, 2, 3])\n",
        "\n",
        "# New Axis Insertion\n",
        "expanded_mouse = mouse[:, np.newaxis]  # Changing from (3,) to (3, 1)\n"
      ],
      "metadata": {
        "id": "AcRtLHaaMdBs"
      }
    },
    {
      "cell_type": "markdown",
      "source": [
        "# Different Methods of Array Manipulation in NumPy\n",
        "\n",
        "NumPy provides a wide range of functions and methods to manipulate arrays. Here are some of the key techniques:\n",
        "\n",
        "## Reshaping Arrays\n",
        "Reshaping allows you to change the shape of an array without changing its data.\n",
        "\n",
        "```python\n",
        "import numpy as np\n",
        "\n",
        "# Creating an array\n",
        "arr = np.arange(8)\n",
        "\n",
        "# Reshaping the array to 2x4\n",
        "reshaped_arr = arr.reshape(2, 4)\n"
      ],
      "metadata": {
        "id": "u2w6mDftM-Cl"
      }
    },
    {
      "cell_type": "markdown",
      "source": [
        "### Flattening Arrays\n",
        "Flattening an array converts a multi-dimensional array into a one-dimensional array.\n",
        "\n",
        "```python\n",
        "# Creating a 2x2 array\n",
        "arr = np.array([[1, 2], [3, 4]])\n",
        "\n",
        "# Flattening the array\n",
        "flattened_arr = arr.flatten()\n",
        "\n",
        "\n",
        "### Transposing Arrays\n",
        "Transposing an array swaps its axes.\n",
        "\n",
        "```python\n",
        "# Creating a 2x3 array\n",
        "arr = np.array([[1, 2, 3], [4, 5, 6]])\n",
        "\n",
        "# Transposing the array\n",
        "transposed_arr = arr.T\n",
        "\n",
        "\n",
        "### Concatenating Arrays\n",
        "Concatenating arrays joins two or more arrays along an existing axis.\n",
        "\n",
        "```python\n",
        "# Creating two arrays\n",
        "arr1 = np.array([[1, 2], [3, 4]])\n",
        "arr2 = np.array([[5, 6]])\n",
        "\n",
        "# Concatenating along axis 0\n",
        "concatenated_arr = np.concatenate((arr1, arr2), axis=0)\n",
        "\n",
        "### Splitting Arrays\n",
        "Splitting arrays divides an array into multiple sub-arrays.\n",
        "\n",
        "```python\n",
        "# Creating an array\n",
        "arr = np.arange(9)\n",
        "\n",
        "# Splitting the array into 3 sub-arrays\n",
        "split_arr = np.split(arr, 3)\n",
        "\n",
        "### Adding/Removing Elements\n",
        "You can add or remove elements from arrays using specific functions.\n",
        "\n",
        "#### Adding Elements\n",
        "```python\n",
        "# Creating an array\n",
        "arr = np.array([1, 2, 3])\n",
        "\n",
        "# Adding elements\n",
        "arr = np.append(arr, [4, 5, 6])\n",
        "\n",
        "### Removing Elements\n",
        "```python\n",
        "# Creating an array\n",
        "arr = np.array([1, 2, 3, 4, 5, 6])\n",
        "\n",
        "# Removing elements\n",
        "arr = np.delete(arr, [1, 4])\n",
        "\n",
        "\n",
        "### Inserting Elements\n",
        "You can insert elements into an array at specified indices.\n",
        "\n",
        "```python\n",
        "# Creating an array\n",
        "arr = np.array([1, 2, 3, 4])\n",
        "\n",
        "# Inserting elements\n",
        "arr = np.insert(arr, 2, [5, 6])\n",
        "\n",
        "### Changing Array Data Type\n",
        "You can change the data type of an array using the `astype` method.\n",
        "\n",
        "```python\n",
        "# Creating an array of integers\n",
        "arr = np.array([1, 2, 3, 4])\n",
        "\n",
        "# Changing to float\n",
        "float_arr = arr.astype(float)\n",
        "\n",
        "\n",
        "### Reversing Arrays\n",
        "You can reverse the order of elements in an array.\n",
        "\n",
        "```python\n",
        "# Creating an array\n",
        "arr = np.array([1, 2, 3, 4, 5])\n",
        "\n",
        "# Reversing the array\n",
        "reversed_arr = np.flip(arr)\n",
        "\n",
        "\n",
        "### Sorting Arrays\n",
        "You can sort the elements of an array.\n",
        "\n",
        "```python\n",
        "# Creating an array\n",
        "arr = np.array([3, 1, 2, 5, 4])\n",
        "\n",
        "# Sorting the array\n",
        "sorted_arr = np.sort(arr)\n",
        "\n",
        "### Finding Unique Elements\n",
        "You can find the unique elements in an array.\n",
        "\n",
        "```python\n",
        "# Creating an array\n",
        "arr = np.array([1, 2, 2, 3, 4, 4, 5])\n",
        "\n",
        "# Finding unique elements\n",
        "unique_arr = np.unique(arr)\n",
        "\n",
        "\n"
      ],
      "metadata": {
        "id": "B4T6WRB6M_VP"
      }
    },
    {
      "cell_type": "markdown",
      "source": [
        "# Shape Manipulation in NumPy\n",
        "\n",
        "Shape manipulation refers to changing the structure or dimensions of an array without altering its data. NumPy provides several functions to perform shape manipulation efficiently. Let's dive into the details of each function: `reshape()`, `flatten()`, `ravel()`, `transpose()`, `swapaxes()`, and `rollaxis()`.\n",
        "\n",
        "## `reshape()`\n",
        "\n",
        "The `reshape()` function in NumPy allows you to change the shape of an array without changing its data. The new shape must be compatible with the original shape, meaning the total number of elements must remain the same.\n",
        "\n",
        "### Syntax\n",
        "\n",
        "```python\n",
        "numpy.reshape(arr, newshape, order='C')\n"
      ],
      "metadata": {
        "id": "3T620nwnPeBT"
      }
    },
    {
      "cell_type": "markdown",
      "source": [
        "## `reshape()`\n",
        "\n",
        "The `reshape()` function in NumPy allows you to change the shape of an array without changing its data. The new shape must be compatible with the original shape, meaning the total number of elements must remain the same.\n",
        "\n",
        "### Syntax\n",
        "\n",
        "```python\n",
        "numpy.reshape(arr, newshape, order='C')\n"
      ],
      "metadata": {
        "id": "wibecT6-PjUA"
      }
    },
    {
      "cell_type": "markdown",
      "source": [
        "## `flatten()`, `ravel()`\n",
        "\n",
        "Both `flatten()` and `ravel()` functions are used to convert a multi-dimensional array into a one-dimensional array.\n",
        "\n",
        "### `flatten()`\n",
        "\n",
        "Returns a copy of the array collapsed into one dimension.\n",
        "\n",
        "#### Syntax\n",
        "\n",
        "```python\n",
        "numpy.flatten(order='C')\n",
        "\n",
        "## `order` Parameter\n",
        "\n",
        "The `order` parameter specifies the order in which the elements should be read. The default is `'C'`, which stands for row-major order.\n",
        "\n",
        "### Example\n",
        "\n",
        "```python\n",
        "import numpy as np\n",
        "\n",
        "# Original array\n",
        "bhagath = np.array([[1, 2, 3], [4, 5, 6]])\n",
        "print(\"Original array:\")\n",
        "print(bhagath)\n",
        "\n",
        "# Flattened array\n",
        "manvi = bhagath.flatten()\n",
        "print(\"\\nFlattened array:\")\n",
        "print(manvi)\n",
        "\n",
        "## `ravel()`\n",
        "\n",
        "The `ravel()` function returns a flattened array. It returns a view when possible; otherwise, it returns a copy.\n",
        "\n",
        "### Syntax\n",
        "\n",
        "```python\n",
        "numpy.ravel(a, order='C')\n",
        "\n",
        "- a: The input array.\n",
        "- order: (Optional) The order in which the elements should be read. Default is 'C' (row-major order).\n",
        "\n",
        "\n",
        "## `transpose()`\n",
        "\n",
        "The `transpose()` function permutes the dimensions of an array. This means it changes the order of the axes.\n",
        "\n",
        "### Syntax\n",
        "```python\n",
        "numpy.transpose(a, axes=None)\n",
        "\n",
        "**a**: The input array.  \n",
        "**axes**: (Optional) The order of the axes. If not provided, the axes are reversed.\n",
        "\n",
        "**Example**\n",
        "```python\n",
        "import numpy as np\n",
        "\n",
        "# Original array\n",
        "edukron = np.array([[1, 2, 3], [4, 5, 6]])\n",
        "print(\"Original array:\")\n",
        "print(edukron)\n",
        "\n",
        "# Transposed array\n",
        "aiml = np.transpose(edukron)\n",
        "print(\"\\nTransposed array:\")\n",
        "print(aiml)\n",
        "\n",
        "### `swapaxes()`\n",
        "The `swapaxes()` function interchanges two specified axes of an array.\n",
        "\n",
        "**Syntax**\n",
        "```python\n",
        "numpy.swapaxes(a, axis1, axis2)\n"
      ],
      "metadata": {
        "id": "TpLI2Cd0PkAD"
      }
    },
    {
      "cell_type": "code",
      "source": [],
      "metadata": {
        "id": "TptTTYouPdAN"
      },
      "execution_count": null,
      "outputs": []
    },
    {
      "cell_type": "code",
      "source": [],
      "metadata": {
        "id": "TWl2l6X0GrYe"
      },
      "execution_count": null,
      "outputs": []
    },
    {
      "cell_type": "code",
      "execution_count": null,
      "metadata": {
        "id": "QYjn_ODncNlM"
      },
      "outputs": [],
      "source": []
    }
  ]
}